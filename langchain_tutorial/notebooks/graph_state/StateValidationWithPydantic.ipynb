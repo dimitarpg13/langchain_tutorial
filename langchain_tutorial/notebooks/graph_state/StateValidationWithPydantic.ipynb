{
  "cells": [
    {
      "cell_type": "markdown",
      "id": "256d3948",
      "metadata": {
        "id": "256d3948"
      },
      "source": [
        "<a href=\"https://colab.research.google.com/github/dimitarpg13/langchain_tutorial/blob/main/langchain_tutorial/notebooks/graph_state/StateValidationWithPydantic.ipynb\" target=\"_parent\"><img src=\"https://colab.research.google.com/assets/colab-badge.svg\" alt=\"Open In Colab\"/></a>"
      ]
    },
    {
      "cell_type": "markdown",
      "id": "f118fabe-37b7-4cd4-b7a4-9b0fc3875ca3",
      "metadata": {
        "id": "f118fabe-37b7-4cd4-b7a4-9b0fc3875ca3"
      },
      "source": [
        "# Simple Example of Private State\n",
        "\n",
        "\n",
        "## Goals\n",
        "\n",
        "we're going to illustrate how to use private state and private schema to communicate between internal nodes.\n"
      ]
    },
    {
      "cell_type": "code",
      "execution_count": 1,
      "id": "b9a896f4-8509-456a-9a25-46532342f459",
      "metadata": {
        "id": "b9a896f4-8509-456a-9a25-46532342f459"
      },
      "outputs": [],
      "source": [
        "%%capture --no-stderr\n",
        "%pip install --quiet -U langgraph"
      ]
    },
    {
      "cell_type": "markdown",
      "source": [
        "So we define three containers all of which subclass from `TypedDict` - `OverallState`, `Node1Input`, and `Node2Input`."
      ],
      "metadata": {
        "id": "52rkR-0dBs1Z"
      },
      "id": "52rkR-0dBs1Z"
    },
    {
      "cell_type": "code",
      "execution_count": 2,
      "id": "8119232a-7d56-4abc-b0ef-18bf5f0cc9fd",
      "metadata": {
        "id": "8119232a-7d56-4abc-b0ef-18bf5f0cc9fd"
      },
      "outputs": [],
      "source": [
        "from langgraph.graph import StateGraph, START, END\n",
        "from typing_extensions import TypedDict\n",
        "\n",
        "# The overall state of the graph (this is the public state shared across nodes)\n",
        "class OverallState(TypedDict):\n",
        "    a: str\n",
        "\n",
        "# Output from `node_1` contains private data that is not part of the overall state\n",
        "class Node1Output(TypedDict):\n",
        "    private_data: str\n",
        "\n",
        "# The input to Node 2 contains the private data available after `node_1` completes execution\n",
        "class Node2Input(TypedDict):\n",
        "    private_data: str"
      ]
    },
    {
      "cell_type": "markdown",
      "source": [
        "We wire the private state - `Node1Output` as `node_1` output and `Node2Input` as the input to `node_2` with the following code"
      ],
      "metadata": {
        "id": "rllxaLmKBqgf"
      },
      "id": "rllxaLmKBqgf"
    },
    {
      "cell_type": "code",
      "source": [
        "# The private data is only shared between `node_1` and `node_2`\n",
        "def node_1(state: OverallState) -> Node1Output:\n",
        "    output = {\"private_data\": \"set by node_1\"}\n",
        "    print(f\"Entered node `node_1`:\\n\\tInput: {state}.\\n\\tReturned: {output}\")\n",
        "    return output\n",
        "\n",
        "def node_2(state: Node2Input) -> OverallState:\n",
        "    output = {\"a\": \"set by node_2\"}\n",
        "    print(f\"Entered node `node_2`:\\n\\tInput: {state}.\\n\\tReturned: {output}\")\n",
        "    return output"
      ],
      "metadata": {
        "id": "2Ws2SnElEnly"
      },
      "id": "2Ws2SnElEnly",
      "execution_count": 3,
      "outputs": []
    },
    {
      "cell_type": "markdown",
      "source": [
        "We wire the overall (public) state with both the input and output of `node_3`"
      ],
      "metadata": {
        "id": "nXFFve1DGWCL"
      },
      "id": "nXFFve1DGWCL"
    },
    {
      "cell_type": "code",
      "source": [
        "# Node 3 only has access to the overall state (no access to private data from `node_1`)\n",
        "def node_3(state: OverallState) -> OverallState:\n",
        "    output = {\"a\": \"set by node_3\"}\n",
        "    print(f\"Entered node `node_3`:\\n\\tInput: {state}.\\n\\tReturned: {output}\")\n",
        "    return output"
      ],
      "metadata": {
        "id": "SIrGkPIoGRK-"
      },
      "id": "SIrGkPIoGRK-",
      "execution_count": 4,
      "outputs": []
    },
    {
      "cell_type": "markdown",
      "source": [
        "We connect all nodes in a sequence, where `node_2` acceppts private data from `node_1`, and `node_3` does not see the private data at all. Then we execute the graph."
      ],
      "metadata": {
        "id": "HPdJGA9wHs7K"
      },
      "id": "HPdJGA9wHs7K"
    },
    {
      "cell_type": "code",
      "source": [
        "builder = StateGraph(OverallState).add_sequence([node_1, node_2, node_3])\n",
        "builder.add_edge(START, \"node_1\")\n",
        "graph = builder.compile()\n",
        "\n",
        "# Invoke the graph with the initial state\n",
        "response = graph.invoke(\n",
        "    {\n",
        "        \"a\": \"set at start\",\n",
        "    }\n",
        ")\n",
        "print()\n",
        "print(f\"Output of graph invocation: {response}\")"
      ],
      "metadata": {
        "id": "imfd6q3nHq6c",
        "outputId": "2fa77428-4878-45f9-99ce-4a5913230784",
        "colab": {
          "base_uri": "https://localhost:8080/"
        }
      },
      "id": "imfd6q3nHq6c",
      "execution_count": 5,
      "outputs": [
        {
          "output_type": "stream",
          "name": "stdout",
          "text": [
            "Entered node `node_1`:\n",
            "\tInput: {'a': 'set at start'}.\n",
            "\tReturned: {'private_data': 'set by node_1'}\n",
            "Entered node `node_2`:\n",
            "\tInput: {'private_data': 'set by node_1'}.\n",
            "\tReturned: {'a': 'set by node_2'}\n",
            "Entered node `node_3`:\n",
            "\tInput: {'a': 'set by node_2'}.\n",
            "\tReturned: {'a': 'set by node_3'}\n",
            "\n",
            "Output of graph invocation: {'a': 'set by node_3'}\n"
          ]
        }
      ]
    }
  ],
  "metadata": {
    "kernelspec": {
      "display_name": "Python 3 (ipykernel)",
      "language": "python",
      "name": "python3"
    },
    "language_info": {
      "codemirror_mode": {
        "name": "ipython",
        "version": 3
      },
      "file_extension": ".py",
      "mimetype": "text/x-python",
      "name": "python",
      "nbconvert_exporter": "python",
      "pygments_lexer": "ipython3",
      "version": "3.12.1"
    },
    "colab": {
      "provenance": []
    }
  },
  "nbformat": 4,
  "nbformat_minor": 5
}
