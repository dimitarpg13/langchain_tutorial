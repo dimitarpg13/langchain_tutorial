{
  "cells": [
    {
      "cell_type": "markdown",
      "id": "256d3948",
      "metadata": {
        "id": "256d3948"
      },
      "source": [
        "<a href=\"https://colab.research.google.com/github/dimitarpg13/langchain_tutorial/blob/main/langchain_tutorial/notebooks/graph_state/StateValidationWithPydantic.ipynb\" target=\"_parent\"><img src=\"https://colab.research.google.com/assets/colab-badge.svg\" alt=\"Open In Colab\"/></a>"
      ]
    },
    {
      "cell_type": "markdown",
      "id": "f118fabe-37b7-4cd4-b7a4-9b0fc3875ca3",
      "metadata": {
        "id": "f118fabe-37b7-4cd4-b7a4-9b0fc3875ca3"
      },
      "source": [
        "# Validation of Graph State using Pydantic framework\n",
        "\n",
        "\n",
        "## Goals\n",
        "\n",
        "we're going to illustrate how to use Pydantic and validate state and schema for simple graph scenarios.\n"
      ]
    },
    {
      "cell_type": "code",
      "execution_count": 1,
      "id": "b9a896f4-8509-456a-9a25-46532342f459",
      "metadata": {
        "id": "b9a896f4-8509-456a-9a25-46532342f459"
      },
      "outputs": [],
      "source": [
        "%%capture --no-stderr\n",
        "%pip install --quiet -U langgraph"
      ]
    },
    {
      "cell_type": "markdown",
      "source": [
        "We will see how [Pydantic BaseModel](https://docs.pydantic.dev/latest/api/base_model/) can be used to validate the state schema at run time\n",
        "\n",
        "Limitations of the Pydantic-based state schema validation:\n",
        "\n",
        "* currently, the output of the graph will **not** be an instance of a pydantic model\n",
        "\n",
        "* run-time validation only occurs on inputs into nodes, not on the outputs\n",
        "\n",
        "* the validation error trace from pydantic does not show which node the error arises in."
      ],
      "metadata": {
        "id": "sivL83iaPMZs"
      },
      "id": "sivL83iaPMZs"
    },
    {
      "cell_type": "markdown",
      "source": [
        "We declare the container which holds the public state - `OverallState` and define a single graph node"
      ],
      "metadata": {
        "id": "WYoMdMy0UWSl"
      },
      "id": "WYoMdMy0UWSl"
    },
    {
      "cell_type": "code",
      "source": [
        "from langgraph.graph import StateGraph, START, END\n",
        "from typing_extensions import TypedDict\n",
        "from pydantic import BaseModel\n",
        "\n",
        "# the overall state of the graph is a public state\n",
        "class OverallState(BaseModel):\n",
        "    a: str\n",
        "\n",
        "def node(state: OverallState):\n",
        "    return {\"a\": \"goodbye\"}"
      ],
      "metadata": {
        "id": "tG780rqTPLLU"
      },
      "id": "tG780rqTPLLU",
      "execution_count": 2,
      "outputs": []
    },
    {
      "cell_type": "markdown",
      "source": [
        "Next we build the graph with state and the defined node"
      ],
      "metadata": {
        "id": "eYiOGavvVBpl"
      },
      "id": "eYiOGavvVBpl"
    },
    {
      "cell_type": "code",
      "source": [
        "builder = StateGraph(OverallState)\n",
        "builder.add_node(node) # `node_1` is the first node\n",
        "builder.add_edge(START, \"node\")\n",
        "builder.add_edge(\"node\", END)\n",
        "graph = builder.compile()\n",
        "\n",
        "# test the graph with valid input\n",
        "graph.invoke({\"a\": \"hello\"})"
      ],
      "metadata": {
        "colab": {
          "base_uri": "https://localhost:8080/"
        },
        "id": "-SfkOzulVGUU",
        "outputId": "38a57d08-ad11-4a8b-dc57-a83b687a49f0"
      },
      "id": "-SfkOzulVGUU",
      "execution_count": 4,
      "outputs": [
        {
          "output_type": "execute_result",
          "data": {
            "text/plain": [
              "{'a': 'goodbye'}"
            ]
          },
          "metadata": {},
          "execution_count": 4
        }
      ]
    },
    {
      "cell_type": "markdown",
      "source": [
        "Now let us invoke the same graph with **invalid** input"
      ],
      "metadata": {
        "id": "2Elb5ST2WMzL"
      },
      "id": "2Elb5ST2WMzL"
    },
    {
      "cell_type": "code",
      "source": [
        "try:\n",
        "    graph.invoke({\"a\": 123}) # should be a string\n",
        "except Exception as e:\n",
        "    print(\"An exception was raised because `a` is an integer rather than a string.\")\n",
        "    print(e)"
      ],
      "metadata": {
        "colab": {
          "base_uri": "https://localhost:8080/"
        },
        "id": "8kJFESqhWRiD",
        "outputId": "76093555-873d-43b7-9a63-801e284570f9"
      },
      "id": "8kJFESqhWRiD",
      "execution_count": 5,
      "outputs": [
        {
          "output_type": "stream",
          "name": "stdout",
          "text": [
            "An exception was raised because `a` is an integer rather than a string.\n",
            "1 validation error for OverallState\n",
            "a\n",
            "  Input should be a valid string [type=string_type, input_value=123, input_type=int]\n",
            "    For further information visit https://errors.pydantic.dev/2.11/v/string_type\n"
          ]
        }
      ]
    },
    {
      "cell_type": "markdown",
      "source": [
        "### Serialization Behavior with Pydantic\n",
        "\n",
        "We need to understand how serialization works in the following situations:\n",
        "\n",
        "* passing Pydantic objects as inputs\n",
        "\n",
        "* receiving outputs from the graph\n",
        "\n",
        "* working with nested Pydantic models\n",
        "\n",
        "Below is shown a snippet of code clarifies these behaviors:"
      ],
      "metadata": {
        "id": "fQB3G11SXG2N"
      },
      "id": "fQB3G11SXG2N"
    },
    {
      "cell_type": "markdown",
      "source": [
        "First we define two containers which subclass Pydantic's `BaseModel` hence will be subject to seralization"
      ],
      "metadata": {
        "id": "HLu9swKba3cL"
      },
      "id": "HLu9swKba3cL"
    },
    {
      "cell_type": "code",
      "source": [
        "class NestedModel(BaseModel):\n",
        "    value: str\n",
        "\n",
        "class ComplexState(BaseModel):\n",
        "    text: str\n",
        "    count: int\n",
        "    nested: NestedModel"
      ],
      "metadata": {
        "id": "QeOgAYztZKUQ"
      },
      "id": "QeOgAYztZKUQ",
      "execution_count": 6,
      "outputs": []
    },
    {
      "cell_type": "markdown",
      "source": [
        "We define a node which accepts input of type `ComplexState`, appends something to it and returns the appended and processed string as output"
      ],
      "metadata": {
        "id": "hof_5af3aSr6"
      },
      "id": "hof_5af3aSr6"
    },
    {
      "cell_type": "code",
      "source": [
        "def process_node(state: ComplexState):\n",
        "    # Node receives a validated Pydantic object\n",
        "    print(f\"Input state type: {type(state)}\")\n",
        "    print(f\"Nested type: {type(state.nested)}\")\n",
        "    # return a dicntionary update\n",
        "    return {\"text\": state.text + \" processed\", \"count\": state.count + 1}"
      ],
      "metadata": {
        "id": "eQYE5HXqdqmj"
      },
      "id": "eQYE5HXqdqmj",
      "execution_count": 7,
      "outputs": []
    },
    {
      "cell_type": "markdown",
      "source": [
        "Next we build and compile the graph model"
      ],
      "metadata": {
        "id": "EnUZFcmseIR5"
      },
      "id": "EnUZFcmseIR5"
    },
    {
      "cell_type": "code",
      "source": [
        "builder = StateGraph(ComplexState)\n",
        "builder.add_node(\"process\", process_node)\n",
        "builder.add_edge(START, \"process\")\n",
        "builder.add_edge(\"process\", END)\n",
        "graph = builder.compile()"
      ],
      "metadata": {
        "id": "unqOmzU9eNWg"
      },
      "id": "unqOmzU9eNWg",
      "execution_count": 8,
      "outputs": []
    },
    {
      "cell_type": "markdown",
      "source": [
        "Create a Pydantic instance for input and invoke the graph with the new Pydantic instance"
      ],
      "metadata": {
        "id": "HYM__X_bgUw5"
      },
      "id": "HYM__X_bgUw5"
    },
    {
      "cell_type": "code",
      "source": [
        "input_state = ComplexState(text=\"hello\", count=0, nested=NestedModel(value=\"test\"))\n",
        "print(f\"Input object type: {type(input_state)}\")\n",
        "\n",
        "result = graph.invoke(input_state)\n",
        "print(f\"Output type: {type(result)}\")\n",
        "print(f\"Output content: {result}\")"
      ],
      "metadata": {
        "colab": {
          "base_uri": "https://localhost:8080/"
        },
        "id": "b4016eJugfza",
        "outputId": "7136128f-5208-45f7-f875-bca4d741e749"
      },
      "id": "b4016eJugfza",
      "execution_count": 10,
      "outputs": [
        {
          "output_type": "stream",
          "name": "stdout",
          "text": [
            "Input object type: <class '__main__.ComplexState'>\n",
            "Input state type: <class '__main__.ComplexState'>\n",
            "Nested type: <class '__main__.NestedModel'>\n",
            "Output type: <class 'dict'>\n",
            "Output content: {'text': 'hello processed', 'count': 1, 'nested': NestedModel(value='test')}\n"
          ]
        }
      ]
    },
    {
      "cell_type": "markdown",
      "source": [
        "Finally, convert back the result to Pydantic model"
      ],
      "metadata": {
        "id": "tjmBaj3bgzwl"
      },
      "id": "tjmBaj3bgzwl"
    },
    {
      "cell_type": "code",
      "source": [
        "output_model = ComplexState(**result)\n",
        "print(f'Converted back to Pydantic: {type(output_model)}')"
      ],
      "metadata": {
        "colab": {
          "base_uri": "https://localhost:8080/"
        },
        "id": "NM_H-MHIg91v",
        "outputId": "5497e747-795f-44dd-a622-1b0ede56bc9a"
      },
      "id": "NM_H-MHIg91v",
      "execution_count": 11,
      "outputs": [
        {
          "output_type": "stream",
          "name": "stdout",
          "text": [
            "Converted back to Pydantic: <class '__main__.ComplexState'>\n"
          ]
        }
      ]
    },
    {
      "cell_type": "markdown",
      "source": [
        "### Runtime Type Coercion with Pydantic\n",
        "\n",
        "We will clarify on the runtime coercion behavior of Pydantic BaseModel in relevant for us scenarios via the code snippet below"
      ],
      "metadata": {
        "id": "WVRlWs2fhtD4"
      },
      "id": "WVRlWs2fhtD4"
    },
    {
      "cell_type": "code",
      "source": [
        "class CoercionExample(BaseModel):\n",
        "    # Pydantic coerces string numbers to integers\n",
        "    number: int\n",
        ""
      ],
      "metadata": {
        "id": "w-NJKMH-h9TT"
      },
      "id": "w-NJKMH-h9TT",
      "execution_count": null,
      "outputs": []
    }
  ],
  "metadata": {
    "kernelspec": {
      "display_name": "Python 3 (ipykernel)",
      "language": "python",
      "name": "python3"
    },
    "language_info": {
      "codemirror_mode": {
        "name": "ipython",
        "version": 3
      },
      "file_extension": ".py",
      "mimetype": "text/x-python",
      "name": "python",
      "nbconvert_exporter": "python",
      "pygments_lexer": "ipython3",
      "version": "3.12.1"
    },
    "colab": {
      "provenance": []
    }
  },
  "nbformat": 4,
  "nbformat_minor": 5
}