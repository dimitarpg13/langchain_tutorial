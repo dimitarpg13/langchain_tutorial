{
  "nbformat": 4,
  "nbformat_minor": 0,
  "metadata": {
    "colab": {
      "provenance": [],
      "authorship_tag": "ABX9TyMfng3/4W2g+4lKXDSozhsC",
      "include_colab_link": true
    },
    "kernelspec": {
      "name": "python3",
      "display_name": "Python 3"
    },
    "language_info": {
      "name": "python"
    }
  },
  "cells": [
    {
      "cell_type": "markdown",
      "metadata": {
        "id": "view-in-github",
        "colab_type": "text"
      },
      "source": [
        "<a href=\"https://colab.research.google.com/github/dimitarpg13/langchain_tutorial/blob/main/langchain_tutorial/notebooks/llm_and_sql_db/QASystemOverSQLDB.ipynb\" target=\"_parent\"><img src=\"https://colab.research.google.com/assets/colab-badge.svg\" alt=\"Open In Colab\"/></a>"
      ]
    },
    {
      "cell_type": "markdown",
      "source": [
        "## Question/Answering system over SQL data\n",
        "\n",
        "### Workflow\n",
        "\n",
        "1. Convert question to SQL query: Model converts user input to a SQL query.\n",
        "\n",
        "2. Execute SQL query: Execute the query.\n",
        "\n",
        "3. Answer the question: Model responds to user input using the query results.\n"
      ],
      "metadata": {
        "id": "RSl_zKfLwBa4"
      }
    },
    {
      "cell_type": "code",
      "execution_count": null,
      "metadata": {
        "id": "u9RJAnXYvEEK"
      },
      "outputs": [],
      "source": []
    }
  ]
}