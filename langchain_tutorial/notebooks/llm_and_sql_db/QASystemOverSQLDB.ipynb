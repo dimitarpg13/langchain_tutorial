{
  "nbformat": 4,
  "nbformat_minor": 0,
  "metadata": {
    "colab": {
      "provenance": [],
      "authorship_tag": "ABX9TyMMbH1xgHx1RRQRxO70p6eb",
      "include_colab_link": true
    },
    "kernelspec": {
      "name": "python3",
      "display_name": "Python 3"
    },
    "language_info": {
      "name": "python"
    }
  },
  "cells": [
    {
      "cell_type": "markdown",
      "metadata": {
        "id": "view-in-github",
        "colab_type": "text"
      },
      "source": [
        "<a href=\"https://colab.research.google.com/github/dimitarpg13/langchain_tutorial/blob/main/langchain_tutorial/notebooks/llm_and_sql_db/QASystemOverSQLDB.ipynb\" target=\"_parent\"><img src=\"https://colab.research.google.com/assets/colab-badge.svg\" alt=\"Open In Colab\"/></a>"
      ]
    },
    {
      "cell_type": "markdown",
      "source": [
        "## Question/Answering system over SQL data\n",
        "\n",
        "### Workflow\n",
        "\n",
        "1. Convert question to SQL query: Model converts user input to a SQL query.\n",
        "\n",
        "2. Execute SQL query: Execute the query.\n",
        "\n",
        "3. Answer the question: Model responds to user input using the query results.\n"
      ],
      "metadata": {
        "id": "RSl_zKfLwBa4"
      }
    },
    {
      "cell_type": "code",
      "execution_count": 1,
      "metadata": {
        "id": "u9RJAnXYvEEK"
      },
      "outputs": [],
      "source": [
        "%%capture --no-stderr\n",
        "%pip install --upgrade --quiet langchain-community langgraph"
      ]
    },
    {
      "cell_type": "markdown",
      "source": [
        "initialize appropriate env variables"
      ],
      "metadata": {
        "id": "5TutkqTb02pq"
      }
    },
    {
      "cell_type": "code",
      "source": [
        "import os, getpass\n",
        "from dotenv import load_dotenv\n",
        "\n",
        "def _set_env(var: str):\n",
        "  if not os.environ.get(var):\n",
        "    os.environ[var] = getpass.getpass(f\"{var}: \")\n",
        "\n",
        "load_dotenv()\n",
        "\n",
        "_set_env(\"LANGSMITH_API_KEY\")\n",
        "\n",
        "os.environ[\"LANGSMITH_TRACING\"] = \"true\""
      ],
      "metadata": {
        "id": "abtj9rwK1aoZ"
      },
      "execution_count": 2,
      "outputs": []
    },
    {
      "cell_type": "markdown",
      "source": [
        "### Sample Data\n",
        "\n",
        "The below example will use a SQLite connection with the Chinook database, which is a sample database that represents a digital media store. Follow [these installation steps](https://database.guide/2-sample-databases-sqlite/) to create Chinook.db in the same directory as this notebook. You can also download and build the database via the following terminal command lines:\n",
        "\n",
        "```bash\n",
        "apt-get install sqlite3\n",
        "\n",
        "curl -s https://raw.githubusercontent.com/lerocha/chinook-database/master/ChinookDatabase/DataSources/Chinook_Sqlite.sql | sqlite3 Chinook.db\n",
        "```"
      ],
      "metadata": {
        "id": "IhgGv1BE1pVC"
      }
    },
    {
      "cell_type": "markdown",
      "source": [
        "We interface with the freshly  created `Chinook.db` using the SQLAlchemy-driven `SQLDatabase` class:"
      ],
      "metadata": {
        "id": "TfiK0dNp8ZnT"
      }
    },
    {
      "cell_type": "code",
      "source": [
        "from langchain_community.utilities import SQLDatabase\n",
        "\n",
        "db = SQLDatabase.from_uri(\"sqlite:///Chinook.db\")\n",
        "print(db.dialect)\n",
        "print(db.get_usable_table_names())\n",
        "db.run(\"SELECT * FROM Artist LIMIT 10;\")"
      ],
      "metadata": {
        "colab": {
          "base_uri": "https://localhost:8080/",
          "height": 109
        },
        "id": "rIAYHIo51-h8",
        "outputId": "d2fcd3b1-b4e3-47e7-fde9-bb027413ac78"
      },
      "execution_count": 4,
      "outputs": [
        {
          "output_type": "stream",
          "name": "stdout",
          "text": [
            "sqlite\n",
            "['Album', 'Artist', 'Customer', 'Employee', 'Genre', 'Invoice', 'InvoiceLine', 'MediaType', 'Playlist', 'PlaylistTrack', 'Track']\n"
          ]
        },
        {
          "output_type": "execute_result",
          "data": {
            "text/plain": [
              "\"[(1, 'AC/DC'), (2, 'Accept'), (3, 'Aerosmith'), (4, 'Alanis Morissette'), (5, 'Alice In Chains'), (6, 'Antônio Carlos Jobim'), (7, 'Apocalyptica'), (8, 'Audioslave'), (9, 'BackBeat'), (10, 'Billy Cobham')]\""
            ],
            "application/vnd.google.colaboratory.intrinsic+json": {
              "type": "string"
            }
          },
          "metadata": {},
          "execution_count": 4
        }
      ]
    }
  ]
}