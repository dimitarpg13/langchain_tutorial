{
  "nbformat": 4,
  "nbformat_minor": 0,
  "metadata": {
    "colab": {
      "provenance": [],
      "authorship_tag": "ABX9TyO3Zy5rtm1tEjMpnIOfd3iY",
      "include_colab_link": true
    },
    "kernelspec": {
      "name": "python3",
      "display_name": "Python 3"
    },
    "language_info": {
      "name": "python"
    }
  },
  "cells": [
    {
      "cell_type": "markdown",
      "metadata": {
        "id": "view-in-github",
        "colab_type": "text"
      },
      "source": [
        "<a href=\"https://colab.research.google.com/github/dimitarpg13/langchain_tutorial/blob/main/langchain_tutorial/notebooks/runnable_lambda/RunnableLambdaSimple.ipynb\" target=\"_parent\"><img src=\"https://colab.research.google.com/assets/colab-badge.svg\" alt=\"Open In Colab\"/></a>"
      ]
    },
    {
      "cell_type": "code",
      "execution_count": 1,
      "metadata": {
        "id": "0mtfBslO9aIQ"
      },
      "outputs": [],
      "source": [
        "%%capture --no-stderr\n",
        "%pip install --quiet -U langchain_core"
      ]
    },
    {
      "cell_type": "code",
      "source": [
        "from langchain_core.runnables import RunnableLambda"
      ],
      "metadata": {
        "id": "mVM4ZuZO97y5"
      },
      "execution_count": 2,
      "outputs": []
    },
    {
      "cell_type": "markdown",
      "source": [
        "### Define a simple Python function"
      ],
      "metadata": {
        "id": "G1gnbw-QKrC-"
      }
    },
    {
      "cell_type": "code",
      "source": [
        "\n",
        "def add_five(x: int) -> int:\n",
        "    return x + 5"
      ],
      "metadata": {
        "id": "8lZh_VAo99_7"
      },
      "execution_count": 3,
      "outputs": []
    },
    {
      "cell_type": "markdown",
      "source": [
        "### Wrap the function in a RunnableLambda"
      ],
      "metadata": {
        "id": "93lkAouZKoHt"
      }
    },
    {
      "cell_type": "code",
      "source": [
        "\n",
        "add_five_runnable = RunnableLambda(add_five)\n"
      ],
      "metadata": {
        "id": "7vZvJMHh-5D2"
      },
      "execution_count": 4,
      "outputs": []
    },
    {
      "cell_type": "markdown",
      "source": [
        "### Invoke the runnable"
      ],
      "metadata": {
        "id": "V9P3G_11KkhB"
      }
    },
    {
      "cell_type": "code",
      "source": [
        "\n",
        "result = add_five_runnable.invoke(10)\n",
        "print(f\"Result of invoking: {result}\")\n"
      ],
      "metadata": {
        "colab": {
          "base_uri": "https://localhost:8080/"
        },
        "id": "SKdhjaCx-8J5",
        "outputId": "9c1dcdff-4a98-4e55-8666-1a806d1c27da"
      },
      "execution_count": 5,
      "outputs": [
        {
          "output_type": "stream",
          "name": "stdout",
          "text": [
            "Result of invoking: 15\n"
          ]
        }
      ]
    },
    {
      "cell_type": "markdown",
      "source": [
        "### Batch invocation"
      ],
      "metadata": {
        "id": "4_MNCg-VKhWT"
      }
    },
    {
      "cell_type": "code",
      "source": [
        "\n",
        "batch_result = add_five_runnable.batch([1, 2, 3])\n",
        "print(f\"Result of batch invocation: {batch_result}\")\n"
      ],
      "metadata": {
        "colab": {
          "base_uri": "https://localhost:8080/"
        },
        "id": "E1QqqjTqAPAA",
        "outputId": "3927391d-b42f-4c0f-a99e-c87a1bf3ea03"
      },
      "execution_count": 6,
      "outputs": [
        {
          "output_type": "stream",
          "name": "stdout",
          "text": [
            "Result of batch invocation: [6, 7, 8]\n"
          ]
        }
      ]
    },
    {
      "cell_type": "markdown",
      "source": [
        "### Chaining with another RunnableLambda"
      ],
      "metadata": {
        "id": "EWaAdQhEKck2"
      }
    },
    {
      "cell_type": "code",
      "source": [
        "\n",
        "def multiply_by_two(x: int) -> int:\n",
        "    return x * 2\n",
        "\n",
        "multiply_by_two_runnable = RunnableLambda(multiply_by_two)\n",
        "\n",
        "chained_runnable = add_five_runnable | multiply_by_two_runnable\n",
        "\n",
        "chained_result = chained_runnable.invoke(3)\n",
        "print(f\"Result of chained runnable: {chained_result}\")"
      ],
      "metadata": {
        "colab": {
          "base_uri": "https://localhost:8080/"
        },
        "id": "XLVF4_LFASUH",
        "outputId": "af8f05e5-4b2d-48d6-dafb-421fd5f3e30b"
      },
      "execution_count": 7,
      "outputs": [
        {
          "output_type": "stream",
          "name": "stdout",
          "text": [
            "Result of chained runnable: 16\n"
          ]
        }
      ]
    }
  ]
}