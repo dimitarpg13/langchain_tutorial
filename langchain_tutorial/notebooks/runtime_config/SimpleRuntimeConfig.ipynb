{
  "cells": [
    {
      "cell_type": "markdown",
      "id": "fb0ebaf1",
      "metadata": {
        "id": "fb0ebaf1"
      },
      "source": [
        "<a href=\"https://colab.research.google.com/github/dimitarpg13/langchain_tutorial/blob/main/langchain_tutorial/notebooks/runtime_config/SimpleRuntimeConfig.ipynb\" target=\"_parent\"><img src=\"https://colab.research.google.com/assets/colab-badge.svg\" alt=\"Open In Colab\"/></a>"
      ]
    },
    {
      "cell_type": "markdown",
      "id": "c52ea2f9-03ff-4647-b782-46867ebed04e",
      "metadata": {
        "id": "c52ea2f9-03ff-4647-b782-46867ebed04e"
      },
      "source": [
        "# Working with Runtime Configurations\n",
        "\n",
        "\n",
        "We want to configure our graph when calling it. For example, we want to specify LLM or system prompt to use at runtime _without polluting the graph state with these parameters_.\n",
        "\n",
        "Adding runtime configuration, invloves a) specifying a schema for the configuration, b) adding the configuration to the nodes or conditional edges and c) passing the configuration to the graph"
      ]
    },
    {
      "cell_type": "code",
      "execution_count": null,
      "id": "d5197aba-5d46-421b-ae3b-4e3034edcfda",
      "metadata": {
        "id": "d5197aba-5d46-421b-ae3b-4e3034edcfda"
      },
      "outputs": [],
      "source": [
        "%%capture --no-stderr\n",
        "%pip install --quiet -U langchain_core langgraph langchain_openai"
      ]
    },
    {
      "cell_type": "markdown",
      "source": [
        "Below is a simple example which illustrates these steps:"
      ],
      "metadata": {
        "id": "Y9X55HdmQAnk"
      },
      "id": "Y9X55HdmQAnk"
    },
    {
      "cell_type": "code",
      "source": [
        "from langchain_core.runnables import RunnableConfig\n",
        "from langgraph.graph import END, StateGraph, START\n",
        "from typing_extensions import TypedDict"
      ],
      "metadata": {
        "id": "TYgbJnpVQEcG"
      },
      "id": "TYgbJnpVQEcG",
      "execution_count": null,
      "outputs": []
    },
    {
      "cell_type": "markdown",
      "source": [
        "1) Specify the config schema"
      ],
      "metadata": {
        "id": "vR3DKEV0S6x9"
      },
      "id": "vR3DKEV0S6x9"
    },
    {
      "cell_type": "code",
      "source": [
        "class ConfigSchema(TypedDict):\n",
        "    my_runtime_value: str"
      ],
      "metadata": {
        "id": "93p9ZvqTS5fC"
      },
      "id": "93p9ZvqTS5fC",
      "execution_count": null,
      "outputs": []
    },
    {
      "cell_type": "markdown",
      "source": [
        "2) Define a state and a node which accesses the config"
      ],
      "metadata": {
        "id": "K2uBPO2lTLQh"
      },
      "id": "K2uBPO2lTLQh"
    },
    {
      "cell_type": "code",
      "source": [
        "class State(TypedDict):\n",
        "    my_state_value: str\n",
        "\n",
        "def node(state: State, config: RunnableConfig):\n",
        "    if config[\"configurable\"][\"my_runtime_value\"] == \"a\":\n",
        "        return {\"my_state_value\": 1}\n",
        "    elif config[\"configurable\"][\"my_runtime_value\"] == \"b\":\n",
        "        return {\"my_state_value\": 2}\n",
        "    else:\n",
        "        raise ValueError(\"Unknown values.\")"
      ],
      "metadata": {
        "id": "0kaDDfZMTP-X"
      },
      "id": "0kaDDfZMTP-X",
      "execution_count": null,
      "outputs": []
    },
    {
      "cell_type": "markdown",
      "source": [
        "3) Build and compile the graph"
      ],
      "metadata": {
        "id": "hLNURe1hWOVV"
      },
      "id": "hLNURe1hWOVV"
    },
    {
      "cell_type": "code",
      "source": [
        "builder = Stategraph(State, config_schema=ConfigSchema)\n",
        "builder.add_node(node)\n",
        "builder.add_edge(START, \"node\")\n",
        "builder.add_edge(\"node\", END)\n",
        "\n",
        "graph = builder.compile()"
      ],
      "metadata": {
        "id": "D-38HfPpWWw4"
      },
      "id": "D-38HfPpWWw4",
      "execution_count": null,
      "outputs": []
    },
    {
      "cell_type": "markdown",
      "source": [
        "4) Pass in configuration at run time and invoke the graph"
      ],
      "metadata": {
        "id": "XdyWfQ2YYBDE"
      },
      "id": "XdyWfQ2YYBDE"
    },
    {
      "cell_type": "code",
      "source": [
        "print(graph.invoke({}, {\"configurable\": {\"my_runtime_value\": \"a\"}}))\n",
        "print(graph.invoke({}, {\"configurable\": {\"my_runtime_value\": \"b\"}}))"
      ],
      "metadata": {
        "id": "tT_RE_nhYIqP"
      },
      "id": "tT_RE_nhYIqP",
      "execution_count": null,
      "outputs": []
    }
  ],
  "metadata": {
    "kernelspec": {
      "display_name": "Python 3 (ipykernel)",
      "language": "python",
      "name": "python3"
    },
    "language_info": {
      "codemirror_mode": {
        "name": "ipython",
        "version": 3
      },
      "file_extension": ".py",
      "mimetype": "text/x-python",
      "name": "python",
      "nbconvert_exporter": "python",
      "pygments_lexer": "ipython3",
      "version": "3.12.1"
    },
    "colab": {
      "provenance": []
    }
  },
  "nbformat": 4,
  "nbformat_minor": 5
}