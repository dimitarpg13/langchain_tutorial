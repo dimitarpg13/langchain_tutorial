{
  "nbformat": 4,
  "nbformat_minor": 0,
  "metadata": {
    "colab": {
      "provenance": [],
      "authorship_tag": "ABX9TyPc+heVLRFy652QvQGTNcBt",
      "include_colab_link": true
    },
    "kernelspec": {
      "name": "python3",
      "display_name": "Python 3"
    },
    "language_info": {
      "name": "python"
    }
  },
  "cells": [
    {
      "cell_type": "markdown",
      "metadata": {
        "id": "view-in-github",
        "colab_type": "text"
      },
      "source": [
        "<a href=\"https://colab.research.google.com/github/dimitarpg13/langchain_tutorial/blob/main/langchain_tutorial/notebooks/structured_tool/StructuredToolSimple.ipynb\" target=\"_parent\"><img src=\"https://colab.research.google.com/assets/colab-badge.svg\" alt=\"Open In Colab\"/></a>"
      ]
    },
    {
      "cell_type": "code",
      "execution_count": 1,
      "metadata": {
        "id": "3aNpnKuBArHL"
      },
      "outputs": [],
      "source": [
        "%%capture --no-stderr\n",
        "%pip install --quiet -U langchain_core pydantic"
      ]
    },
    {
      "cell_type": "markdown",
      "source": [
        "### Define the input schema for the tool using Pydantic"
      ],
      "metadata": {
        "id": "gh_fhZXGFkKp"
      }
    },
    {
      "cell_type": "code",
      "source": [
        "from pydantic import BaseModel, Field\n",
        "\n",
        "class CalculatorInput(BaseModel):\n",
        "    a: int = Field(description=\"The first number to operate on\")\n",
        "    b: int = Field(description=\"The second number to operate on\")"
      ],
      "metadata": {
        "id": "8XhVn_EkEJqY"
      },
      "execution_count": 3,
      "outputs": []
    },
    {
      "cell_type": "markdown",
      "source": [
        "### Define the function that the tool will execute"
      ],
      "metadata": {
        "id": "ie7GNKseI2r6"
      }
    },
    {
      "cell_type": "code",
      "source": [
        "def multiply_numbers(a: int, b: int) -> int:\n",
        "    \"\"\"Multiplies two numbers together.\"\"\"\n",
        "    return a * b\n"
      ],
      "metadata": {
        "id": "ghoIUpsqI6Lp"
      },
      "execution_count": 4,
      "outputs": []
    },
    {
      "cell_type": "markdown",
      "source": [
        "### Create a StructuredTool from the function and its input schema"
      ],
      "metadata": {
        "id": "0nYHoQhaI917"
      }
    },
    {
      "cell_type": "code",
      "source": [
        "from langchain_core.tools.structured import StructuredTool\n",
        "\n",
        "calculator_tool = StructuredTool.from_function(\n",
        "    func=multiply_numbers,\n",
        "    name=\"Calculator\",\n",
        "    description=\"A tool to perform multiplication of two numbers.\",\n",
        "    args_schema=CalculatorInput,\n",
        "    return_direct=False  # Set to True if the tool's output should be directly returned by the agent\n",
        ")"
      ],
      "metadata": {
        "id": "Ez3gvGW1I8sz"
      },
      "execution_count": 6,
      "outputs": []
    },
    {
      "cell_type": "markdown",
      "source": [
        "### Example of invoking the tool"
      ],
      "metadata": {
        "id": "diJLEYEYQK-8"
      }
    },
    {
      "cell_type": "code",
      "source": [
        "result = calculator_tool.invoke({\"a\": 5, \"b\": 10})\n",
        "print(f\"Result of multiplication: {result}\")"
      ],
      "metadata": {
        "colab": {
          "base_uri": "https://localhost:8080/"
        },
        "id": "hPLs49QhQL2b",
        "outputId": "26dd47e7-7edb-4f2a-9522-38ddd1928222"
      },
      "execution_count": 7,
      "outputs": [
        {
          "output_type": "stream",
          "name": "stdout",
          "text": [
            "Result of multiplication: 50\n"
          ]
        }
      ]
    }
  ]
}